{
 "cells": [
  {
   "cell_type": "code",
   "execution_count": 1,
   "id": "d48ee1de",
   "metadata": {},
   "outputs": [],
   "source": [
    "import numpy as np\n",
    "import pandas as pd"
   ]
  },
  {
   "cell_type": "code",
   "execution_count": 2,
   "id": "1c375f5a",
   "metadata": {},
   "outputs": [],
   "source": [
    "data = pd.read_csv(\"list.csv\", encoding = \"unicode_escape\")"
   ]
  },
  {
   "cell_type": "code",
   "execution_count": 3,
   "id": "8519daed",
   "metadata": {},
   "outputs": [],
   "source": [
    "data['Txn Date'] = pd.to_datetime(data['Txn Date']) #to convert data from string to date format"
   ]
  },
  {
   "cell_type": "code",
   "execution_count": 4,
   "id": "066ab1da",
   "metadata": {},
   "outputs": [],
   "source": [
    "data[\"Description\"]=data['Description'].apply(lambda x:x.lower())"
   ]
  },
  {
   "cell_type": "code",
   "execution_count": 5,
   "id": "b7bf9cab",
   "metadata": {},
   "outputs": [],
   "source": [
    "df1=data[\"Description\"].value_counts()"
   ]
  },
  {
   "cell_type": "code",
   "execution_count": 6,
   "id": "916e3212",
   "metadata": {},
   "outputs": [],
   "source": [
    "import datetime as dt"
   ]
  },
  {
   "cell_type": "code",
   "execution_count": 7,
   "id": "23d18a82",
   "metadata": {},
   "outputs": [],
   "source": [
    "data=data.drop([\"Description\"],axis=1)"
   ]
  },
  {
   "cell_type": "code",
   "execution_count": 8,
   "id": "de81cd5a",
   "metadata": {},
   "outputs": [],
   "source": [
    "Latest_Date = dt.datetime(2022,6,18)"
   ]
  },
  {
   "cell_type": "code",
   "execution_count": 9,
   "id": "3c0e9e5b",
   "metadata": {},
   "outputs": [],
   "source": [
    "data[\"Debit\"]=data[\"Debit\"].replace(\",\",\"\",regex=True)\n",
    "data[\"Debit\"] = data[\"Debit\"].astype(float)"
   ]
  },
  {
   "cell_type": "code",
   "execution_count": 10,
   "id": "5a1bd007",
   "metadata": {},
   "outputs": [],
   "source": [
    "RFMScores = data.groupby('category').agg({'Txn Date': lambda x: (Latest_Date - x.max()).days, 'category': lambda x: len(x), 'Debit':lambda x: x.sum()})"
   ]
  },
  {
   "cell_type": "code",
   "execution_count": 11,
   "id": "de18c1dc",
   "metadata": {},
   "outputs": [],
   "source": [
    "RFMScores[\"Txn Date\"] = RFMScores[\"Txn Date\"].astype(int)"
   ]
  },
  {
   "cell_type": "code",
   "execution_count": 12,
   "id": "7459a6ac",
   "metadata": {},
   "outputs": [],
   "source": [
    "RFMScores.rename(columns = {\"Txn Date\":\"Recency\",\"category\":\"Frequency\",\"Debit\":\"Monetary\"},inplace=True)"
   ]
  },
  {
   "cell_type": "code",
   "execution_count": 13,
   "id": "163e37d9",
   "metadata": {},
   "outputs": [
    {
     "data": {
      "text/html": [
       "<div>\n",
       "<style scoped>\n",
       "    .dataframe tbody tr th:only-of-type {\n",
       "        vertical-align: middle;\n",
       "    }\n",
       "\n",
       "    .dataframe tbody tr th {\n",
       "        vertical-align: top;\n",
       "    }\n",
       "\n",
       "    .dataframe thead th {\n",
       "        text-align: right;\n",
       "    }\n",
       "</style>\n",
       "<table border=\"1\" class=\"dataframe\">\n",
       "  <thead>\n",
       "    <tr style=\"text-align: right;\">\n",
       "      <th></th>\n",
       "      <th>category</th>\n",
       "      <th>Recency</th>\n",
       "      <th>Frequency</th>\n",
       "      <th>Monetary</th>\n",
       "    </tr>\n",
       "  </thead>\n",
       "  <tbody>\n",
       "    <tr>\n",
       "      <th>0</th>\n",
       "      <td>bills</td>\n",
       "      <td>33</td>\n",
       "      <td>22</td>\n",
       "      <td>4293.50</td>\n",
       "    </tr>\n",
       "    <tr>\n",
       "      <th>1</th>\n",
       "      <td>food</td>\n",
       "      <td>23</td>\n",
       "      <td>11</td>\n",
       "      <td>4561.99</td>\n",
       "    </tr>\n",
       "    <tr>\n",
       "      <th>2</th>\n",
       "      <td>shopping</td>\n",
       "      <td>33</td>\n",
       "      <td>10</td>\n",
       "      <td>7537.00</td>\n",
       "    </tr>\n",
       "    <tr>\n",
       "      <th>3</th>\n",
       "      <td>travel</td>\n",
       "      <td>43</td>\n",
       "      <td>8</td>\n",
       "      <td>2333.46</td>\n",
       "    </tr>\n",
       "  </tbody>\n",
       "</table>\n",
       "</div>"
      ],
      "text/plain": [
       "   category  Recency  Frequency  Monetary\n",
       "0     bills       33         22   4293.50\n",
       "1      food       23         11   4561.99\n",
       "2  shopping       33         10   7537.00\n",
       "3    travel       43          8   2333.46"
      ]
     },
     "execution_count": 13,
     "metadata": {},
     "output_type": "execute_result"
    }
   ],
   "source": [
    "RFMScores.reset_index()"
   ]
  },
  {
   "cell_type": "code",
   "execution_count": 14,
   "id": "ab077e7b",
   "metadata": {},
   "outputs": [],
   "source": [
    "quantiles = RFMScores.quantile(q=[0.25,0.5,0.75])\n",
    "quantiles = quantiles.to_dict()"
   ]
  },
  {
   "cell_type": "code",
   "execution_count": 15,
   "id": "34bc341c",
   "metadata": {},
   "outputs": [],
   "source": [
    "def RScoring(x,p,d):\n",
    "    if x <= d[p][0.25]:\n",
    "        return 1\n",
    "    elif x <= d[p][0.50]:\n",
    "        return 2\n",
    "    elif x <= d[p][0.75]: \n",
    "        return 3\n",
    "    else:\n",
    "        return 4\n",
    "    \n",
    "def FnMScoring(x,p,d):\n",
    "    if x <= d[p][0.25]:\n",
    "        return 4\n",
    "    elif x <= d[p][0.50]:\n",
    "        return 3\n",
    "    elif x <= d[p][0.75]: \n",
    "        return 2\n",
    "    else:\n",
    "        return 1"
   ]
  },
  {
   "cell_type": "code",
   "execution_count": 16,
   "id": "d80f379d",
   "metadata": {},
   "outputs": [],
   "source": [
    "RFMScores['R'] = RFMScores['Recency'].apply(RScoring, args=('Recency',quantiles,))\n",
    "RFMScores['F'] = RFMScores['Frequency'].apply(FnMScoring, args=('Frequency',quantiles,))\n",
    "RFMScores['M'] = RFMScores['Monetary'].apply(FnMScoring, args=('Monetary',quantiles,))"
   ]
  },
  {
   "cell_type": "code",
   "execution_count": 17,
   "id": "46e9a294",
   "metadata": {},
   "outputs": [],
   "source": [
    "RFMScores['RFMGroup'] = RFMScores.R.map(str) + RFMScores.F.map(str) + RFMScores.M.map(str)\n",
    "\n",
    "#Calculate and Add RFMScore value column showing total sum of RFMGroup values\n",
    "RFMScores['RFMScore'] = RFMScores[['R', 'F', 'M']].sum(axis = 1)"
   ]
  },
  {
   "cell_type": "code",
   "execution_count": 18,
   "id": "ebef6aa1",
   "metadata": {},
   "outputs": [],
   "source": [
    "RFMSorted=RFMScores.sort_values(by=[\"RFMGroup\"])"
   ]
  },
  {
   "cell_type": "code",
   "execution_count": 19,
   "id": "254b9d3d",
   "metadata": {},
   "outputs": [],
   "source": [
    "RFMSorted = RFMSorted.head(2)\n",
    "RFM=list(RFMSorted.index)"
   ]
  },
  {
   "cell_type": "code",
   "execution_count": 20,
   "id": "d28fef45",
   "metadata": {},
   "outputs": [],
   "source": [
    "df2=df1.head(5)"
   ]
  },
  {
   "cell_type": "code",
   "execution_count": 21,
   "id": "7246c169",
   "metadata": {},
   "outputs": [],
   "source": [
    "df2=list(df2.index)\n",
    "mylist=RFM+df2"
   ]
  },
  {
   "cell_type": "code",
   "execution_count": 22,
   "id": "857cf61f",
   "metadata": {},
   "outputs": [
    {
     "name": "stdout",
     "output_type": "stream",
     "text": [
      "['food', 'bills']\n"
     ]
    }
   ],
   "source": [
    "print(mylist)"
   ]
  }
 ],
 "metadata": {
  "kernelspec": {
   "display_name": "Python 3 (ipykernel)",
   "language": "python",
   "name": "python3"
  },
  "language_info": {
   "codemirror_mode": {
    "name": "ipython",
    "version": 3
   },
   "file_extension": ".py",
   "mimetype": "text/x-python",
   "name": "python",
   "nbconvert_exporter": "python",
   "pygments_lexer": "ipython3",
   "version": "3.9.7"
  }
 },
 "nbformat": 4,
 "nbformat_minor": 5
}
