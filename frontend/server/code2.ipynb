{
 "cells": [
  {
   "cell_type": "code",
   "execution_count": 6,
   "id": "1eefef53",
   "metadata": {},
   "outputs": [
    {
     "name": "stdout",
     "output_type": "stream",
     "text": [
      "why to use your site?\n",
      "Chotu:our site uses the bank statements in order to study your spending behavior and recommend appropriate credit card.\n"
     ]
    }
   ],
   "source": [
    "import nltk\n",
    "import random\n",
    "import string\n",
    "import warnings\n",
    "warnings.filterwarnings('ignore')\n",
    "\n",
    "f = open('chatbot.txt', 'r', errors='ignore')\n",
    "raw = f.read()\n",
    "raw = raw.lower()\n",
    "\n",
    "sent_tokens = nltk.sent_tokenize(raw) #converts to list of scentences\n",
    "word_tokens = nltk.word_tokenize(raw) #converts to list of words\n",
    "\n",
    "sentToken = sent_tokens[:4]\n",
    "#print(sentToken)\n",
    "wordToken = word_tokens[:4]\n",
    "#print(wordToken)\n",
    "\n",
    "#preprocessing \n",
    "lemmer = nltk.stem.WordNetLemmatizer()\n",
    "\n",
    "def LemTokens(tokens):\n",
    "    return [lemmer.lemmatize(token) for token in tokens]\n",
    "remove_punct_dict = dict((ord(punct), None) for punct in string.punctuation)\n",
    "\n",
    "def LemNormalize(text):\n",
    "    return LemTokens(nltk.word_tokenize(text.lower().translate(remove_punct_dict)))\n",
    "\n",
    "#Greetings\n",
    "GREETING_INPUTS = (\"hello\", \"hi\", \"greetings\", \"sup\", \"what's up\", \"hey\")\n",
    "GREETING_RESPONSES = [\"hi\", \"hey\", \"nods\", \"hi there\", \"hello\", \"I am glad! you are talking to me\"]\n",
    "\n",
    "def greeting(scentence):\n",
    "    \n",
    "    for word in scentence.split():\n",
    "        if word.lower() in GREETING_INPUTS:\n",
    "            return random.choice(GREETING_RESPONSES)\n",
    "        \n",
    "#Vectorizer\n",
    "\n",
    "from sklearn.feature_extraction.text import TfidfVectorizer\n",
    "from sklearn.metrics.pairwise import cosine_similarity\n",
    "\n",
    "def response(user_response):\n",
    "    chatbot_response = ''\n",
    "    sent_tokens.append(user_response)\n",
    "    TfidfVec = TfidfVectorizer(tokenizer=LemNormalize, stop_words=\"english\")\n",
    "    tfidf = TfidfVec.fit_transform(sent_tokens)\n",
    "    vals = cosine_similarity(tfidf[-1], tfidf)\n",
    "    idx = vals.argsort()[0][-2]\n",
    "    flat = vals.flatten()\n",
    "    flat.sort()\n",
    "    req_tfidf = flat[-2]\n",
    "    if(req_tfidf == 0):\n",
    "        chatbot_response = chatbot_response + \"I am sorry! I don't understand you\"\n",
    "        return chatbot_response\n",
    "    \n",
    "    else:\n",
    "        chatbot_response=chatbot_response+sent_tokens[idx]\n",
    "        return chatbot_response\n",
    "    \n",
    "\n",
    "if __name__ == \"__main__\":\n",
    "    user_response = input()\n",
    "    user_response = user_response.lower()\n",
    "    if(user_response!='bye'):\n",
    "        if user_response == 'thanks' or user_response == 'thank you':\n",
    "            print(\"Chotu: You're welcome!\")\n",
    "        else:\n",
    "            if(greeting(user_response)!=None):\n",
    "                print(\"Chotu:\" +greeting(user_response))\n",
    "            else:\n",
    "                print(\"Chotu:\", end='')\n",
    "                print(response(user_response))\n",
    "                sent_tokens.remove(user_response)\n",
    "    else:\n",
    "        print(\"Chotu: Bye! Have a great time!\" )"
   ]
  },
  {
   "cell_type": "code",
   "execution_count": null,
   "id": "919e00c3",
   "metadata": {},
   "outputs": [],
   "source": []
  }
 ],
 "metadata": {
  "kernelspec": {
   "display_name": "Python 3 (ipykernel)",
   "language": "python",
   "name": "python3"
  },
  "language_info": {
   "codemirror_mode": {
    "name": "ipython",
    "version": 3
   },
   "file_extension": ".py",
   "mimetype": "text/x-python",
   "name": "python",
   "nbconvert_exporter": "python",
   "pygments_lexer": "ipython3",
   "version": "3.9.7"
  }
 },
 "nbformat": 4,
 "nbformat_minor": 5
}
